{
 "cells": [
  {
   "cell_type": "code",
   "execution_count": null,
   "id": "e3f91ed2-b896-4547-aa46-a20bcf56c64a",
   "metadata": {},
   "outputs": [],
   "source": []
  }
 ],
 "metadata": {
  "kernelspec": {
   "display_name": "",
   "name": ""
  },
  "language_info": {
   "name": ""
  }
 },
 "nbformat": 4,
 "nbformat_minor": 5
}
